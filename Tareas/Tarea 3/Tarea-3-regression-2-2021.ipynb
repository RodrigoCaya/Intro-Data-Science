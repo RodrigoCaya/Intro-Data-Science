{
 "cells": [
  {
   "cell_type": "markdown",
   "metadata": {},
   "source": [
    "# Tarea 3-1: Regresión Polinomial\n",
    "\n",
    "Este es el código que acompaña la tarea 3 del curso INF-396. En esta implementará una versión simple de la regresión Polinomial\n",
    "\n",
    "Profesor: Juan Pavez"
   ]
  },
  {
   "cell_type": "markdown",
   "metadata": {},
   "source": [
    "Integrantes:\n",
    "\n",
    "* Rodrigo Cayazaya Rol: 201773538-4\n",
    "\n",
    "* Lucio Fondon Rol: 201773610-0\n",
    "\n",
    "* Francisco Reyes Rol: 201773529-5\n",
    "\n",
    "* María Riveros Rol: 201704585-k\n",
    "\n",
    "* Jorge Sanhueza Rol: 201704575-2"
   ]
  },
  {
   "cell_type": "code",
   "execution_count": 34,
   "metadata": {},
   "outputs": [],
   "source": [
    "import numpy as np\n",
    "import matplotlib.pyplot as plt\n",
    "\n",
    "from sklearn.preprocessing import PolynomialFeatures\n",
    "from sklearn.decomposition import PCA\n",
    "import pandas as pd\n",
    "from sklearn.preprocessing import StandardScaler"
   ]
  },
  {
   "cell_type": "code",
   "execution_count": 2,
   "metadata": {},
   "outputs": [],
   "source": [
    "# ---------------\n",
    "# En esta sección cargue su dataset del proyecto y realice cualquier visualización y \n",
    "# pre procesamiento que estime necesario. Además, si lo desea puede reducir el tamaño de su dataset \n",
    "# muestreando 5000 datos de manera aleatoria y al menos 5 características. Divida su dataset en Train set (70%)\n",
    "# y Test set (30%)\n",
    "# --------------\n",
    "df=pd.read_csv(\"Data/train.csv\",index_col=0)"
   ]
  },
  {
   "cell_type": "markdown",
   "metadata": {},
   "source": [
    "Eliminar null"
   ]
  },
  {
   "cell_type": "code",
   "execution_count": 3,
   "metadata": {},
   "outputs": [
    {
     "data": {
      "text/html": [
       "<div>\n",
       "<style scoped>\n",
       "    .dataframe tbody tr th:only-of-type {\n",
       "        vertical-align: middle;\n",
       "    }\n",
       "\n",
       "    .dataframe tbody tr th {\n",
       "        vertical-align: top;\n",
       "    }\n",
       "\n",
       "    .dataframe thead th {\n",
       "        text-align: right;\n",
       "    }\n",
       "</style>\n",
       "<table border=\"1\" class=\"dataframe\">\n",
       "  <thead>\n",
       "    <tr style=\"text-align: right;\">\n",
       "      <th></th>\n",
       "      <th>var3</th>\n",
       "      <th>var15</th>\n",
       "      <th>imp_ent_var16_ult1</th>\n",
       "      <th>imp_op_var39_comer_ult1</th>\n",
       "      <th>imp_op_var39_comer_ult3</th>\n",
       "      <th>imp_op_var40_comer_ult1</th>\n",
       "      <th>imp_op_var40_comer_ult3</th>\n",
       "      <th>imp_op_var40_efect_ult1</th>\n",
       "      <th>imp_op_var40_efect_ult3</th>\n",
       "      <th>imp_op_var40_ult1</th>\n",
       "      <th>...</th>\n",
       "      <th>saldo_medio_var33_hace2</th>\n",
       "      <th>saldo_medio_var33_hace3</th>\n",
       "      <th>saldo_medio_var33_ult1</th>\n",
       "      <th>saldo_medio_var33_ult3</th>\n",
       "      <th>saldo_medio_var44_hace2</th>\n",
       "      <th>saldo_medio_var44_hace3</th>\n",
       "      <th>saldo_medio_var44_ult1</th>\n",
       "      <th>saldo_medio_var44_ult3</th>\n",
       "      <th>var38</th>\n",
       "      <th>TARGET</th>\n",
       "    </tr>\n",
       "  </thead>\n",
       "  <tbody>\n",
       "    <tr>\n",
       "      <th>count</th>\n",
       "      <td>76020.000000</td>\n",
       "      <td>76020.000000</td>\n",
       "      <td>76020.000000</td>\n",
       "      <td>76020.000000</td>\n",
       "      <td>76020.000000</td>\n",
       "      <td>76020.000000</td>\n",
       "      <td>76020.000000</td>\n",
       "      <td>76020.000000</td>\n",
       "      <td>76020.000000</td>\n",
       "      <td>76020.000000</td>\n",
       "      <td>...</td>\n",
       "      <td>76020.000000</td>\n",
       "      <td>76020.000000</td>\n",
       "      <td>76020.000000</td>\n",
       "      <td>76020.000000</td>\n",
       "      <td>76020.000000</td>\n",
       "      <td>76020.000000</td>\n",
       "      <td>76020.000000</td>\n",
       "      <td>76020.000000</td>\n",
       "      <td>7.602000e+04</td>\n",
       "      <td>76020.000000</td>\n",
       "    </tr>\n",
       "    <tr>\n",
       "      <th>mean</th>\n",
       "      <td>-1523.199277</td>\n",
       "      <td>33.212865</td>\n",
       "      <td>86.208265</td>\n",
       "      <td>72.363067</td>\n",
       "      <td>119.529632</td>\n",
       "      <td>3.559130</td>\n",
       "      <td>6.472698</td>\n",
       "      <td>0.412946</td>\n",
       "      <td>0.567352</td>\n",
       "      <td>3.160715</td>\n",
       "      <td>...</td>\n",
       "      <td>7.935824</td>\n",
       "      <td>1.365146</td>\n",
       "      <td>12.215580</td>\n",
       "      <td>8.784074</td>\n",
       "      <td>31.505324</td>\n",
       "      <td>1.858575</td>\n",
       "      <td>76.026165</td>\n",
       "      <td>56.614351</td>\n",
       "      <td>1.172358e+05</td>\n",
       "      <td>0.039569</td>\n",
       "    </tr>\n",
       "    <tr>\n",
       "      <th>std</th>\n",
       "      <td>39033.462364</td>\n",
       "      <td>12.956486</td>\n",
       "      <td>1614.757313</td>\n",
       "      <td>339.315831</td>\n",
       "      <td>546.266294</td>\n",
       "      <td>93.155749</td>\n",
       "      <td>153.737066</td>\n",
       "      <td>30.604864</td>\n",
       "      <td>36.513513</td>\n",
       "      <td>95.268204</td>\n",
       "      <td>...</td>\n",
       "      <td>455.887218</td>\n",
       "      <td>113.959637</td>\n",
       "      <td>783.207399</td>\n",
       "      <td>538.439211</td>\n",
       "      <td>2013.125393</td>\n",
       "      <td>147.786584</td>\n",
       "      <td>4040.337842</td>\n",
       "      <td>2852.579397</td>\n",
       "      <td>1.826646e+05</td>\n",
       "      <td>0.194945</td>\n",
       "    </tr>\n",
       "    <tr>\n",
       "      <th>min</th>\n",
       "      <td>-999999.000000</td>\n",
       "      <td>5.000000</td>\n",
       "      <td>0.000000</td>\n",
       "      <td>0.000000</td>\n",
       "      <td>0.000000</td>\n",
       "      <td>0.000000</td>\n",
       "      <td>0.000000</td>\n",
       "      <td>0.000000</td>\n",
       "      <td>0.000000</td>\n",
       "      <td>0.000000</td>\n",
       "      <td>...</td>\n",
       "      <td>0.000000</td>\n",
       "      <td>0.000000</td>\n",
       "      <td>0.000000</td>\n",
       "      <td>0.000000</td>\n",
       "      <td>0.000000</td>\n",
       "      <td>0.000000</td>\n",
       "      <td>0.000000</td>\n",
       "      <td>0.000000</td>\n",
       "      <td>5.163750e+03</td>\n",
       "      <td>0.000000</td>\n",
       "    </tr>\n",
       "    <tr>\n",
       "      <th>25%</th>\n",
       "      <td>2.000000</td>\n",
       "      <td>23.000000</td>\n",
       "      <td>0.000000</td>\n",
       "      <td>0.000000</td>\n",
       "      <td>0.000000</td>\n",
       "      <td>0.000000</td>\n",
       "      <td>0.000000</td>\n",
       "      <td>0.000000</td>\n",
       "      <td>0.000000</td>\n",
       "      <td>0.000000</td>\n",
       "      <td>...</td>\n",
       "      <td>0.000000</td>\n",
       "      <td>0.000000</td>\n",
       "      <td>0.000000</td>\n",
       "      <td>0.000000</td>\n",
       "      <td>0.000000</td>\n",
       "      <td>0.000000</td>\n",
       "      <td>0.000000</td>\n",
       "      <td>0.000000</td>\n",
       "      <td>6.787061e+04</td>\n",
       "      <td>0.000000</td>\n",
       "    </tr>\n",
       "    <tr>\n",
       "      <th>50%</th>\n",
       "      <td>2.000000</td>\n",
       "      <td>28.000000</td>\n",
       "      <td>0.000000</td>\n",
       "      <td>0.000000</td>\n",
       "      <td>0.000000</td>\n",
       "      <td>0.000000</td>\n",
       "      <td>0.000000</td>\n",
       "      <td>0.000000</td>\n",
       "      <td>0.000000</td>\n",
       "      <td>0.000000</td>\n",
       "      <td>...</td>\n",
       "      <td>0.000000</td>\n",
       "      <td>0.000000</td>\n",
       "      <td>0.000000</td>\n",
       "      <td>0.000000</td>\n",
       "      <td>0.000000</td>\n",
       "      <td>0.000000</td>\n",
       "      <td>0.000000</td>\n",
       "      <td>0.000000</td>\n",
       "      <td>1.064092e+05</td>\n",
       "      <td>0.000000</td>\n",
       "    </tr>\n",
       "    <tr>\n",
       "      <th>75%</th>\n",
       "      <td>2.000000</td>\n",
       "      <td>40.000000</td>\n",
       "      <td>0.000000</td>\n",
       "      <td>0.000000</td>\n",
       "      <td>0.000000</td>\n",
       "      <td>0.000000</td>\n",
       "      <td>0.000000</td>\n",
       "      <td>0.000000</td>\n",
       "      <td>0.000000</td>\n",
       "      <td>0.000000</td>\n",
       "      <td>...</td>\n",
       "      <td>0.000000</td>\n",
       "      <td>0.000000</td>\n",
       "      <td>0.000000</td>\n",
       "      <td>0.000000</td>\n",
       "      <td>0.000000</td>\n",
       "      <td>0.000000</td>\n",
       "      <td>0.000000</td>\n",
       "      <td>0.000000</td>\n",
       "      <td>1.187563e+05</td>\n",
       "      <td>0.000000</td>\n",
       "    </tr>\n",
       "    <tr>\n",
       "      <th>max</th>\n",
       "      <td>238.000000</td>\n",
       "      <td>105.000000</td>\n",
       "      <td>210000.000000</td>\n",
       "      <td>12888.030000</td>\n",
       "      <td>21024.810000</td>\n",
       "      <td>8237.820000</td>\n",
       "      <td>11073.570000</td>\n",
       "      <td>6600.000000</td>\n",
       "      <td>6600.000000</td>\n",
       "      <td>8237.820000</td>\n",
       "      <td>...</td>\n",
       "      <td>50003.880000</td>\n",
       "      <td>20385.720000</td>\n",
       "      <td>138831.630000</td>\n",
       "      <td>91778.730000</td>\n",
       "      <td>438329.220000</td>\n",
       "      <td>24650.010000</td>\n",
       "      <td>681462.900000</td>\n",
       "      <td>397884.300000</td>\n",
       "      <td>2.203474e+07</td>\n",
       "      <td>1.000000</td>\n",
       "    </tr>\n",
       "  </tbody>\n",
       "</table>\n",
       "<p>8 rows × 370 columns</p>\n",
       "</div>"
      ],
      "text/plain": [
       "                var3         var15  imp_ent_var16_ult1  \\\n",
       "count   76020.000000  76020.000000        76020.000000   \n",
       "mean    -1523.199277     33.212865           86.208265   \n",
       "std     39033.462364     12.956486         1614.757313   \n",
       "min   -999999.000000      5.000000            0.000000   \n",
       "25%         2.000000     23.000000            0.000000   \n",
       "50%         2.000000     28.000000            0.000000   \n",
       "75%         2.000000     40.000000            0.000000   \n",
       "max       238.000000    105.000000       210000.000000   \n",
       "\n",
       "       imp_op_var39_comer_ult1  imp_op_var39_comer_ult3  \\\n",
       "count             76020.000000             76020.000000   \n",
       "mean                 72.363067               119.529632   \n",
       "std                 339.315831               546.266294   \n",
       "min                   0.000000                 0.000000   \n",
       "25%                   0.000000                 0.000000   \n",
       "50%                   0.000000                 0.000000   \n",
       "75%                   0.000000                 0.000000   \n",
       "max               12888.030000             21024.810000   \n",
       "\n",
       "       imp_op_var40_comer_ult1  imp_op_var40_comer_ult3  \\\n",
       "count             76020.000000             76020.000000   \n",
       "mean                  3.559130                 6.472698   \n",
       "std                  93.155749               153.737066   \n",
       "min                   0.000000                 0.000000   \n",
       "25%                   0.000000                 0.000000   \n",
       "50%                   0.000000                 0.000000   \n",
       "75%                   0.000000                 0.000000   \n",
       "max                8237.820000             11073.570000   \n",
       "\n",
       "       imp_op_var40_efect_ult1  imp_op_var40_efect_ult3  imp_op_var40_ult1  \\\n",
       "count             76020.000000             76020.000000       76020.000000   \n",
       "mean                  0.412946                 0.567352           3.160715   \n",
       "std                  30.604864                36.513513          95.268204   \n",
       "min                   0.000000                 0.000000           0.000000   \n",
       "25%                   0.000000                 0.000000           0.000000   \n",
       "50%                   0.000000                 0.000000           0.000000   \n",
       "75%                   0.000000                 0.000000           0.000000   \n",
       "max                6600.000000              6600.000000        8237.820000   \n",
       "\n",
       "       ...  saldo_medio_var33_hace2  saldo_medio_var33_hace3  \\\n",
       "count  ...             76020.000000             76020.000000   \n",
       "mean   ...                 7.935824                 1.365146   \n",
       "std    ...               455.887218               113.959637   \n",
       "min    ...                 0.000000                 0.000000   \n",
       "25%    ...                 0.000000                 0.000000   \n",
       "50%    ...                 0.000000                 0.000000   \n",
       "75%    ...                 0.000000                 0.000000   \n",
       "max    ...             50003.880000             20385.720000   \n",
       "\n",
       "       saldo_medio_var33_ult1  saldo_medio_var33_ult3  \\\n",
       "count            76020.000000            76020.000000   \n",
       "mean                12.215580                8.784074   \n",
       "std                783.207399              538.439211   \n",
       "min                  0.000000                0.000000   \n",
       "25%                  0.000000                0.000000   \n",
       "50%                  0.000000                0.000000   \n",
       "75%                  0.000000                0.000000   \n",
       "max             138831.630000            91778.730000   \n",
       "\n",
       "       saldo_medio_var44_hace2  saldo_medio_var44_hace3  \\\n",
       "count             76020.000000             76020.000000   \n",
       "mean                 31.505324                 1.858575   \n",
       "std                2013.125393               147.786584   \n",
       "min                   0.000000                 0.000000   \n",
       "25%                   0.000000                 0.000000   \n",
       "50%                   0.000000                 0.000000   \n",
       "75%                   0.000000                 0.000000   \n",
       "max              438329.220000             24650.010000   \n",
       "\n",
       "       saldo_medio_var44_ult1  saldo_medio_var44_ult3         var38  \\\n",
       "count            76020.000000            76020.000000  7.602000e+04   \n",
       "mean                76.026165               56.614351  1.172358e+05   \n",
       "std               4040.337842             2852.579397  1.826646e+05   \n",
       "min                  0.000000                0.000000  5.163750e+03   \n",
       "25%                  0.000000                0.000000  6.787061e+04   \n",
       "50%                  0.000000                0.000000  1.064092e+05   \n",
       "75%                  0.000000                0.000000  1.187563e+05   \n",
       "max             681462.900000           397884.300000  2.203474e+07   \n",
       "\n",
       "             TARGET  \n",
       "count  76020.000000  \n",
       "mean       0.039569  \n",
       "std        0.194945  \n",
       "min        0.000000  \n",
       "25%        0.000000  \n",
       "50%        0.000000  \n",
       "75%        0.000000  \n",
       "max        1.000000  \n",
       "\n",
       "[8 rows x 370 columns]"
      ]
     },
     "execution_count": 3,
     "metadata": {},
     "output_type": "execute_result"
    }
   ],
   "source": [
    "df.describe()"
   ]
  },
  {
   "cell_type": "code",
   "execution_count": 4,
   "metadata": {},
   "outputs": [],
   "source": [
    "for col in df.columns:\n",
    "    df[col].replace(' ', np.NaN, inplace=True)\n",
    "    df[col].replace('', np.NaN, inplace=True)\n",
    "    df[col].replace(-999999.000000, np.NaN, inplace=True)"
   ]
  },
  {
   "cell_type": "code",
   "execution_count": 5,
   "metadata": {},
   "outputs": [
    {
     "data": {
      "text/plain": [
       "(76020, 370)"
      ]
     },
     "execution_count": 5,
     "metadata": {},
     "output_type": "execute_result"
    }
   ],
   "source": [
    "df.shape"
   ]
  },
  {
   "cell_type": "code",
   "execution_count": 6,
   "metadata": {},
   "outputs": [],
   "source": [
    "df.dropna(inplace=True)"
   ]
  },
  {
   "cell_type": "code",
   "execution_count": 7,
   "metadata": {},
   "outputs": [
    {
     "data": {
      "text/plain": [
       "(75904, 370)"
      ]
     },
     "execution_count": 7,
     "metadata": {},
     "output_type": "execute_result"
    }
   ],
   "source": [
    "df.shape"
   ]
  },
  {
   "cell_type": "markdown",
   "metadata": {},
   "source": [
    "Eliminar filas duplicadas"
   ]
  },
  {
   "cell_type": "code",
   "execution_count": 8,
   "metadata": {},
   "outputs": [
    {
     "data": {
      "text/plain": [
       "(75904, 370)"
      ]
     },
     "execution_count": 8,
     "metadata": {},
     "output_type": "execute_result"
    }
   ],
   "source": [
    "df.shape"
   ]
  },
  {
   "cell_type": "code",
   "execution_count": 9,
   "metadata": {},
   "outputs": [],
   "source": [
    "df = df.drop_duplicates()"
   ]
  },
  {
   "cell_type": "code",
   "execution_count": 10,
   "metadata": {},
   "outputs": [
    {
     "data": {
      "text/plain": [
       "(71106, 370)"
      ]
     },
     "execution_count": 10,
     "metadata": {},
     "output_type": "execute_result"
    }
   ],
   "source": [
    "df.shape"
   ]
  },
  {
   "cell_type": "markdown",
   "metadata": {},
   "source": [
    "Eliminar columnas duplicadas"
   ]
  },
  {
   "cell_type": "code",
   "execution_count": 11,
   "metadata": {},
   "outputs": [],
   "source": [
    "def getDuplicateColumns(df):\n",
    "    # Create an empty set\n",
    "    duplicateColumnNames = set()\n",
    "      \n",
    "    # Iterate through all the columns \n",
    "    # of dataframe\n",
    "    for x in range(df.shape[1]):\n",
    "          \n",
    "        # Take column at xth index.\n",
    "        col = df.iloc[:, x]\n",
    "          \n",
    "        # Iterate through all the columns in\n",
    "        # DataFrame from (x + 1)th index to\n",
    "        # last index\n",
    "        for y in range(x + 1, df.shape[1]):\n",
    "              \n",
    "            # Take column at yth index.\n",
    "            otherCol = df.iloc[:, y]\n",
    "              \n",
    "            # Check if two columns at x & y\n",
    "            # index are equal or not,\n",
    "            # if equal then adding \n",
    "            # to the set\n",
    "            if col.equals(otherCol):\n",
    "                duplicateColumnNames.add(df.columns.values[y])\n",
    "                  \n",
    "    # Return list of unique column names \n",
    "    # whose contents are duplicates.\n",
    "    return list(duplicateColumnNames)\n",
    "\n",
    "col_duplicadas = getDuplicateColumns(df)"
   ]
  },
  {
   "cell_type": "code",
   "execution_count": 12,
   "metadata": {},
   "outputs": [
    {
     "data": {
      "text/plain": [
       "(71106, 370)"
      ]
     },
     "execution_count": 12,
     "metadata": {},
     "output_type": "execute_result"
    }
   ],
   "source": [
    "df.shape"
   ]
  },
  {
   "cell_type": "code",
   "execution_count": 13,
   "metadata": {},
   "outputs": [
    {
     "data": {
      "text/plain": [
       "(71106, 308)"
      ]
     },
     "execution_count": 13,
     "metadata": {},
     "output_type": "execute_result"
    }
   ],
   "source": [
    "for columna in col_duplicadas:\n",
    "    df= df.drop([columna],axis=1)\n",
    "\n",
    "df.shape"
   ]
  },
  {
   "cell_type": "markdown",
   "metadata": {},
   "source": [
    "Eliminar columnas con pocos datos (mínimo 85% de los datos distintos de 0)"
   ]
  },
  {
   "cell_type": "code",
   "execution_count": 14,
   "metadata": {},
   "outputs": [
    {
     "data": {
      "text/plain": [
       "(71106, 15)"
      ]
     },
     "execution_count": 14,
     "metadata": {},
     "output_type": "execute_result"
    }
   ],
   "source": [
    "target = df[\"TARGET\"]\n",
    "df= df.drop([\"TARGET\"],axis=1)\n",
    "df=df.replace({0:np.nan})\n",
    "df = df.dropna(thresh=0.85*len(df), axis=1)\n",
    "\n",
    "df=df.replace({np.nan:0})\n",
    "df = pd.concat([df,target],axis=1)\n",
    "df.shape"
   ]
  },
  {
   "cell_type": "code",
   "execution_count": 15,
   "metadata": {},
   "outputs": [
    {
     "data": {
      "text/html": [
       "<div>\n",
       "<style scoped>\n",
       "    .dataframe tbody tr th:only-of-type {\n",
       "        vertical-align: middle;\n",
       "    }\n",
       "\n",
       "    .dataframe tbody tr th {\n",
       "        vertical-align: top;\n",
       "    }\n",
       "\n",
       "    .dataframe thead th {\n",
       "        text-align: right;\n",
       "    }\n",
       "</style>\n",
       "<table border=\"1\" class=\"dataframe\">\n",
       "  <thead>\n",
       "    <tr style=\"text-align: right;\">\n",
       "      <th></th>\n",
       "      <th>var3</th>\n",
       "      <th>var15</th>\n",
       "      <th>ind_var5_0</th>\n",
       "      <th>ind_var30_0</th>\n",
       "      <th>ind_var39_0</th>\n",
       "      <th>ind_var41_0</th>\n",
       "      <th>num_var5_0</th>\n",
       "      <th>num_var30_0</th>\n",
       "      <th>num_var39_0</th>\n",
       "      <th>num_var41_0</th>\n",
       "      <th>num_var42_0</th>\n",
       "      <th>var36</th>\n",
       "      <th>num_meses_var39_vig_ult3</th>\n",
       "      <th>var38</th>\n",
       "      <th>TARGET</th>\n",
       "    </tr>\n",
       "  </thead>\n",
       "  <tbody>\n",
       "    <tr>\n",
       "      <th>count</th>\n",
       "      <td>71106.000000</td>\n",
       "      <td>71106.000000</td>\n",
       "      <td>71106.000000</td>\n",
       "      <td>71106.000000</td>\n",
       "      <td>71106.000000</td>\n",
       "      <td>71106.000000</td>\n",
       "      <td>71106.000000</td>\n",
       "      <td>71106.00000</td>\n",
       "      <td>71106.000000</td>\n",
       "      <td>71106.000000</td>\n",
       "      <td>71106.000000</td>\n",
       "      <td>71106.000000</td>\n",
       "      <td>71106.000000</td>\n",
       "      <td>7.110600e+04</td>\n",
       "      <td>71106.000000</td>\n",
       "    </tr>\n",
       "    <tr>\n",
       "      <th>mean</th>\n",
       "      <td>2.766053</td>\n",
       "      <td>33.560712</td>\n",
       "      <td>0.955419</td>\n",
       "      <td>0.995176</td>\n",
       "      <td>0.885467</td>\n",
       "      <td>0.883892</td>\n",
       "      <td>2.887393</td>\n",
       "      <td>3.39735</td>\n",
       "      <td>2.744536</td>\n",
       "      <td>2.717112</td>\n",
       "      <td>3.218041</td>\n",
       "      <td>38.391120</td>\n",
       "      <td>1.598501</td>\n",
       "      <td>1.171344e+05</td>\n",
       "      <td>0.039561</td>\n",
       "    </tr>\n",
       "    <tr>\n",
       "      <th>std</th>\n",
       "      <td>9.767036</td>\n",
       "      <td>13.110099</td>\n",
       "      <td>0.206384</td>\n",
       "      <td>0.069286</td>\n",
       "      <td>0.318460</td>\n",
       "      <td>0.320357</td>\n",
       "      <td>0.675855</td>\n",
       "      <td>1.37820</td>\n",
       "      <td>1.133867</td>\n",
       "      <td>1.097989</td>\n",
       "      <td>0.974346</td>\n",
       "      <td>46.890191</td>\n",
       "      <td>0.713897</td>\n",
       "      <td>1.883690e+05</td>\n",
       "      <td>0.194926</td>\n",
       "    </tr>\n",
       "    <tr>\n",
       "      <th>min</th>\n",
       "      <td>0.000000</td>\n",
       "      <td>5.000000</td>\n",
       "      <td>0.000000</td>\n",
       "      <td>0.000000</td>\n",
       "      <td>0.000000</td>\n",
       "      <td>0.000000</td>\n",
       "      <td>0.000000</td>\n",
       "      <td>0.00000</td>\n",
       "      <td>0.000000</td>\n",
       "      <td>0.000000</td>\n",
       "      <td>0.000000</td>\n",
       "      <td>0.000000</td>\n",
       "      <td>0.000000</td>\n",
       "      <td>5.163750e+03</td>\n",
       "      <td>0.000000</td>\n",
       "    </tr>\n",
       "    <tr>\n",
       "      <th>25%</th>\n",
       "      <td>2.000000</td>\n",
       "      <td>23.000000</td>\n",
       "      <td>1.000000</td>\n",
       "      <td>1.000000</td>\n",
       "      <td>1.000000</td>\n",
       "      <td>1.000000</td>\n",
       "      <td>3.000000</td>\n",
       "      <td>3.00000</td>\n",
       "      <td>3.000000</td>\n",
       "      <td>3.000000</td>\n",
       "      <td>3.000000</td>\n",
       "      <td>2.000000</td>\n",
       "      <td>1.000000</td>\n",
       "      <td>6.583009e+04</td>\n",
       "      <td>0.000000</td>\n",
       "    </tr>\n",
       "    <tr>\n",
       "      <th>50%</th>\n",
       "      <td>2.000000</td>\n",
       "      <td>28.000000</td>\n",
       "      <td>1.000000</td>\n",
       "      <td>1.000000</td>\n",
       "      <td>1.000000</td>\n",
       "      <td>1.000000</td>\n",
       "      <td>3.000000</td>\n",
       "      <td>3.00000</td>\n",
       "      <td>3.000000</td>\n",
       "      <td>3.000000</td>\n",
       "      <td>3.000000</td>\n",
       "      <td>3.000000</td>\n",
       "      <td>2.000000</td>\n",
       "      <td>1.000470e+05</td>\n",
       "      <td>0.000000</td>\n",
       "    </tr>\n",
       "    <tr>\n",
       "      <th>75%</th>\n",
       "      <td>2.000000</td>\n",
       "      <td>40.000000</td>\n",
       "      <td>1.000000</td>\n",
       "      <td>1.000000</td>\n",
       "      <td>1.000000</td>\n",
       "      <td>1.000000</td>\n",
       "      <td>3.000000</td>\n",
       "      <td>3.00000</td>\n",
       "      <td>3.000000</td>\n",
       "      <td>3.000000</td>\n",
       "      <td>3.000000</td>\n",
       "      <td>99.000000</td>\n",
       "      <td>2.000000</td>\n",
       "      <td>1.228890e+05</td>\n",
       "      <td>0.000000</td>\n",
       "    </tr>\n",
       "    <tr>\n",
       "      <th>max</th>\n",
       "      <td>238.000000</td>\n",
       "      <td>105.000000</td>\n",
       "      <td>1.000000</td>\n",
       "      <td>1.000000</td>\n",
       "      <td>1.000000</td>\n",
       "      <td>1.000000</td>\n",
       "      <td>15.000000</td>\n",
       "      <td>114.00000</td>\n",
       "      <td>33.000000</td>\n",
       "      <td>33.000000</td>\n",
       "      <td>114.000000</td>\n",
       "      <td>99.000000</td>\n",
       "      <td>3.000000</td>\n",
       "      <td>2.203474e+07</td>\n",
       "      <td>1.000000</td>\n",
       "    </tr>\n",
       "  </tbody>\n",
       "</table>\n",
       "</div>"
      ],
      "text/plain": [
       "               var3         var15    ind_var5_0   ind_var30_0   ind_var39_0  \\\n",
       "count  71106.000000  71106.000000  71106.000000  71106.000000  71106.000000   \n",
       "mean       2.766053     33.560712      0.955419      0.995176      0.885467   \n",
       "std        9.767036     13.110099      0.206384      0.069286      0.318460   \n",
       "min        0.000000      5.000000      0.000000      0.000000      0.000000   \n",
       "25%        2.000000     23.000000      1.000000      1.000000      1.000000   \n",
       "50%        2.000000     28.000000      1.000000      1.000000      1.000000   \n",
       "75%        2.000000     40.000000      1.000000      1.000000      1.000000   \n",
       "max      238.000000    105.000000      1.000000      1.000000      1.000000   \n",
       "\n",
       "        ind_var41_0    num_var5_0  num_var30_0   num_var39_0   num_var41_0  \\\n",
       "count  71106.000000  71106.000000  71106.00000  71106.000000  71106.000000   \n",
       "mean       0.883892      2.887393      3.39735      2.744536      2.717112   \n",
       "std        0.320357      0.675855      1.37820      1.133867      1.097989   \n",
       "min        0.000000      0.000000      0.00000      0.000000      0.000000   \n",
       "25%        1.000000      3.000000      3.00000      3.000000      3.000000   \n",
       "50%        1.000000      3.000000      3.00000      3.000000      3.000000   \n",
       "75%        1.000000      3.000000      3.00000      3.000000      3.000000   \n",
       "max        1.000000     15.000000    114.00000     33.000000     33.000000   \n",
       "\n",
       "        num_var42_0         var36  num_meses_var39_vig_ult3         var38  \\\n",
       "count  71106.000000  71106.000000              71106.000000  7.110600e+04   \n",
       "mean       3.218041     38.391120                  1.598501  1.171344e+05   \n",
       "std        0.974346     46.890191                  0.713897  1.883690e+05   \n",
       "min        0.000000      0.000000                  0.000000  5.163750e+03   \n",
       "25%        3.000000      2.000000                  1.000000  6.583009e+04   \n",
       "50%        3.000000      3.000000                  2.000000  1.000470e+05   \n",
       "75%        3.000000     99.000000                  2.000000  1.228890e+05   \n",
       "max      114.000000     99.000000                  3.000000  2.203474e+07   \n",
       "\n",
       "             TARGET  \n",
       "count  71106.000000  \n",
       "mean       0.039561  \n",
       "std        0.194926  \n",
       "min        0.000000  \n",
       "25%        0.000000  \n",
       "50%        0.000000  \n",
       "75%        0.000000  \n",
       "max        1.000000  "
      ]
     },
     "execution_count": 15,
     "metadata": {},
     "output_type": "execute_result"
    }
   ],
   "source": [
    "df.describe()"
   ]
  },
  {
   "cell_type": "markdown",
   "metadata": {},
   "source": [
    "Utilizar solamente 5000 datos"
   ]
  },
  {
   "cell_type": "code",
   "execution_count": 16,
   "metadata": {},
   "outputs": [
    {
     "data": {
      "text/plain": [
       "(5000, 15)"
      ]
     },
     "execution_count": 16,
     "metadata": {},
     "output_type": "execute_result"
    }
   ],
   "source": [
    "df = df.sample(n=5000, replace=False, random_state = 110)\n",
    "df.shape"
   ]
  },
  {
   "cell_type": "markdown",
   "metadata": {},
   "source": [
    "División de la data"
   ]
  },
  {
   "cell_type": "code",
   "execution_count": 17,
   "metadata": {},
   "outputs": [],
   "source": [
    "from sklearn.model_selection import train_test_split\n",
    "p_train = 0.70 # Porcentaje de train.\n",
    "\n",
    "target = df[\"TARGET\"]\n",
    "df= df.drop([\"TARGET\"],axis=1)\n",
    "\n",
    "# train = df[:int((len(df))*p_train)]  \n",
    "# test = df[int((len(df))*p_train):]\n",
    "\n",
    "# var = PCA(n_components=10)\n",
    "# df = var.fit_transform(df)\n",
    "\n",
    "X_train, X_test, y_train, y_test = train_test_split(df, target, test_size=p_train, random_state=42)"
   ]
  },
  {
   "cell_type": "markdown",
   "metadata": {},
   "source": [
    "Normalizar"
   ]
  },
  {
   "cell_type": "code",
   "execution_count": 18,
   "metadata": {},
   "outputs": [],
   "source": [
    "scaler = StandardScaler()\n",
    "X_train = scaler.fit_transform(X_train)\n",
    "X_test = scaler.transform(X_test)"
   ]
  },
  {
   "cell_type": "markdown",
   "metadata": {},
   "source": [
    "Aproximando el resultado"
   ]
  },
  {
   "cell_type": "code",
   "execution_count": 19,
   "metadata": {},
   "outputs": [],
   "source": [
    "def aproximar(valor):\n",
    "    if(abs(valor)<0.5):\n",
    "        return 0\n",
    "    else:\n",
    "        return 1\n",
    "\n",
    "aproximar = np.vectorize(aproximar)"
   ]
  },
  {
   "cell_type": "code",
   "execution_count": 20,
   "metadata": {},
   "outputs": [],
   "source": [
    "def graficar(res_train,res_test,X):\n",
    "\t# set width of bar\n",
    "\tbarWidth = 0.25\n",
    "\tfig = plt.subplots(figsize =(12, 8))\n",
    "\n",
    "\t# Set position of bar on X axis\n",
    "\tbr1 = np.arange(len(res_train))\n",
    "\tbr2 = [x + barWidth for x in br1]\n",
    "\n",
    "\t# Make the plot\n",
    "\tplt.bar(br1, res_train, color ='r', width = barWidth,\n",
    "\t\t\tedgecolor ='black', label ='Train error', linewidth = 1)\n",
    "\tplt.bar(br2, res_test, color ='b', width = barWidth,\n",
    "\t\t\tedgecolor ='black', label ='Test error', linewidth = 1)\n",
    "\tplt.plot(br2, np.array(res_test)-1.5, color ='b', marker='*', markerfacecolor='white', markeredgecolor='white')\n",
    "\tplt.plot(br1, np.array(res_train)-1.5, color ='r', marker='*', markerfacecolor='white', markeredgecolor='white')\n",
    "\n",
    "\t# Adding Xticks\n",
    "\tplt.xlabel('Grado del polinomio', fontweight ='bold', fontsize = 15)\n",
    "\tplt.ylabel('Error', fontweight ='bold', fontsize = 15)\n",
    "\tplt.xticks([r + barWidth for r in range(len(res_train))],X)\n",
    "\tplt.title('Gráfico patriota', fontweight ='bold', fontsize = 15)\n",
    "\n",
    "\tplt.legend()\n",
    "\tplt.show()\n",
    "\n",
    "\t#Disclaimer:\n",
    "\t#COMO GRUPO NO VOTAMOS POR KAST"
   ]
  },
  {
   "cell_type": "code",
   "execution_count": 21,
   "metadata": {},
   "outputs": [],
   "source": [
    "# ---------------\n",
    "# En esta sección implemente las funciones necesarias\n",
    "# para la regresión polinomial: \n",
    "# features: función con entrada X y que genera una nueva representación X_features\n",
    "# con features de un polinomio de grado d calculadas de X, utilice el modelo PolynomialFeatures\n",
    "# de sklearn\n",
    "# learn: Funcion que toma como entrada X e y y calcula los pesos W, utilizando las ecuaciones normales\n",
    "# vistas en clases\n",
    "# model: Funcion que toma una entrada X y pesos W y calcula la predicción del modelo\n",
    "# error: Función que toma como entrada la prediccion y_hat e y y calcula el error cuadrático\n",
    "# --------------\n",
    "\n",
    "def features(X, d):\n",
    "    # aqui su codigo   \n",
    "    poly = PolynomialFeatures(d)\n",
    "    X_features = poly.fit_transform(X)\n",
    "    return X_features\n",
    "\n",
    "def learn(X_features, y_train):\n",
    "    A = X_features\n",
    "    b = y_train\n",
    "    At_A = np.dot(A.T,A)\n",
    "    At_b = np.dot(A.T,b)\n",
    "    W = np.linalg.solve(At_A,At_b)\n",
    "    return W\n",
    "\n",
    "def model(X, W, poly):\n",
    "    # aqui su codigo\n",
    "    X_features = poly.fit_transform(X)\n",
    "    y = np.dot(X_features,W)\n",
    "    y = aproximar(y)\n",
    "    return y\n",
    "\n",
    "def error(y_hat, y):\n",
    "    #aqui su codigo\n",
    "    error = np.sum((y_hat - y)**2)\n",
    "    return error\n"
   ]
  },
  {
   "cell_type": "code",
   "execution_count": 22,
   "metadata": {},
   "outputs": [
    {
     "name": "stdout",
     "output_type": "stream",
     "text": [
      "Polinomio de grado:  1\n",
      "Error en train:  57\n",
      "Error en test:  151\n",
      "-----------------------\n",
      "Polinomio de grado:  2\n",
      "Error en train:  56\n",
      "Error en test:  187\n",
      "-----------------------\n",
      "Polinomio de grado:  3\n",
      "Error en train:  51\n",
      "Error en test:  331\n",
      "-----------------------\n",
      "Polinomio de grado:  5\n",
      "Error en train:  48\n",
      "Error en test:  462\n",
      "-----------------------\n"
     ]
    },
    {
     "data": {
      "image/png": "[encoded data removed]",
      "text/plain": [
       "<Figure size 864x576 with 1 Axes>"
      ]
     },
     "metadata": {
      "needs_background": "light"
     },
     "output_type": "display_data"
    }
   ],
   "source": [
    "# ---------------\n",
    "# Entrene modelos con polinomios de grado 1, 2, 3 y 5, \n",
    "# Calcule el error cuadrático en el conjunto de test y train para cada caso\n",
    "# --------------\n",
    "\n",
    "polinomios = [1, 2, 3, 5]\n",
    "res_train = []\n",
    "res_test = []\n",
    "X = []\n",
    "for pol in polinomios:\n",
    "    X_features = features(X_train, pol)\n",
    "    W = learn(X_features, y_train)\n",
    "    yTrain = model(X_train, W, PolynomialFeatures(pol))\n",
    "    errorTrain = error(yTrain, y_train)\n",
    "    res_train.append(errorTrain)\n",
    "\n",
    "    yTest = model(X_test, W, PolynomialFeatures(pol))\n",
    "    errorTest = error(yTest, y_test)\n",
    "    res_test.append(errorTest)\n",
    "    X.append(str(pol))\n",
    "\n",
    "    print(\"Polinomio de grado: \", pol)\n",
    "    print(\"Error en train: \", errorTrain)\n",
    "    print(\"Error en test: \", errorTest)\n",
    "    print(\"-----------------------\")\n",
    "\n",
    "graficar(res_train,res_test,X)\n"
   ]
  },
  {
   "cell_type": "code",
   "execution_count": 23,
   "metadata": {},
   "outputs": [
    {
     "name": "stdout",
     "output_type": "stream",
     "text": [
      "Polinomio de grado:  1\n",
      "Error en train:  57\n",
      "Error en test:  151\n",
      "-----------------------\n",
      "Polinomio de grado:  2\n",
      "Error en train:  56\n",
      "Error en test:  161\n",
      "-----------------------\n",
      "Polinomio de grado:  3\n",
      "Error en train:  51\n",
      "Error en test:  218\n",
      "-----------------------\n",
      "Polinomio de grado:  5\n",
      "Error en train:  50\n",
      "Error en test:  285\n",
      "-----------------------\n"
     ]
    },
    {
     "data": {
      "image/png": "[encoded data removed]",
      "text/plain": [
       "<Figure size 864x576 with 1 Axes>"
      ]
     },
     "metadata": {
      "needs_background": "light"
     },
     "output_type": "display_data"
    }
   ],
   "source": [
    "# ---------------\n",
    "# En esta sección implemente la regresión de Ridge y repita \n",
    "# los experimentos anteriores\n",
    "# --------------\n",
    "def learn_ridge(X_features, y_train,k):\n",
    "    A = X_features\n",
    "    b = y_train\n",
    "    At_A = np.dot(A.T,A)\n",
    "    At_A = At_A + k*np.eye(At_A.shape[0])\n",
    "    At_b = np.dot(A.T,b)\n",
    "    W = np.linalg.solve(At_A,At_b)\n",
    "    return W\n",
    "\n",
    "polinomios = [1, 2, 3, 5]\n",
    "res_train = []\n",
    "res_test = []\n",
    "X = []\n",
    "for pol in polinomios:\n",
    "    X_features = features(X_train, pol)\n",
    "    W = learn_ridge(X_features, y_train,4)\n",
    "    yTrain = model(X_train, W, PolynomialFeatures(pol))\n",
    "    errorTrain = error(yTrain, y_train)\n",
    "    res_train.append(errorTrain)\n",
    "\n",
    "    yTest = model(X_test, W, PolynomialFeatures(pol))\n",
    "    errorTest = error(yTest, y_test)\n",
    "    res_test.append(errorTest)\n",
    "    X.append(str(pol))\n",
    "    print(\"Polinomio de grado: \", pol)\n",
    "    print(\"Error en train: \", errorTrain)\n",
    "    print(\"Error en test: \", errorTest)\n",
    "    print(\"-----------------------\")\n",
    "\n",
    "graficar(res_train,res_test,X)\n"
   ]
  },
  {
   "cell_type": "markdown",
   "metadata": {},
   "source": [
    "Conclusión:\n",
    "\n",
    "El error de train fue disminuyendo a medida que aumentaba el grado del polinomio, sin embargo, sucedió lo contrario con el error de test.\n",
    "\n",
    "Esta discrepancia sucede por 2 situaciones:\n",
    "- Nuestro problema es de clasificación (0 y 1) y la regresión polinomial funciona mejor para predecir valores, no para clasificar.\n",
    "- Eliminamos columnas con muchos 0's, pudiendo haber eliminado una columna donde los 0's sí aportaban información, pero debido al poco contexto de los datos, no podemos saberlo. Produciendo así overfitting.\n",
    "\n",
    "Cabe destacar que utilizamos normalización de los datos, ya que debido a la gran cantidad de columnas, el procesamiento no terminaba o encontraba una matriz singular."
   ]
  },
  {
   "cell_type": "markdown",
   "metadata": {},
   "source": [
    "# Tarea 3-2: Regresión Logística\n",
    "\n",
    "Este es el código que acompaña la pregunta 2 de al tarea 3 del curso INF-396. En esta implementará una versión simple de la regresión Logística. Para eso utilizará el conjunto de datos adjuntos (tarea2_data.txt).\n",
    "\n"
   ]
  },
  {
   "cell_type": "code",
   "execution_count": 24,
   "metadata": {},
   "outputs": [],
   "source": [
    "import numpy as np\n",
    "import matplotlib.pyplot as plt\n",
    "from sklearn.linear_model import LinearRegression"
   ]
  },
  {
   "cell_type": "code",
   "execution_count": 25,
   "metadata": {},
   "outputs": [],
   "source": [
    "# En esta sección implemente las funciones necesarias\n",
    "# para la regresión logística: cost: Función de costo,\n",
    "# gradient: Gradiente de la función de costo respecto a los\n",
    "# parámetros, gradient_descent: Gradiente descendiente\n",
    "# --------------\n",
    "def sigmoid(X):\n",
    "    # Activation function used to map any real value between 0 and 1\n",
    "    return 1 / (1 + np.exp(-X))\n",
    "\n",
    "def probability(theta, X):\n",
    "    # Returna la probabilidad dedspues de pasarla por la sigmoiddeS\n",
    "    return sigmoid(np.dot( X, theta))\n",
    "\n",
    "def cost(X, y, theta):\n",
    "    m = X.shape[0]\n",
    "    cost = -(1 / m) * np.sum(y * np.log(probability(theta, X)) + (1 - y) * np.log(1 - probability(theta, X)))\n",
    "    return cost\n",
    "\n",
    "def gradient(X, y, theta):\n",
    "    m = X.shape[0]\n",
    "    gradient = (1 / m) * np.dot(X.T, sigmoid(np.dot(X, theta)) - y)\n",
    "    return gradient\n",
    "\n",
    "def gradient_descent_step(X, y, theta, alpha=0.01):\n",
    "    diff = -alpha * gradient(X,y,theta)\n",
    "    theta += diff\n",
    "    return theta\n",
    "\n",
    "\n",
    "def gradient_descent(X,y, thetha, iteraciones=100, alpha=0.01):\n",
    "    thethas = []\n",
    "    costs = []\n",
    "    for _ in range(iteraciones):\n",
    "        thetha = gradient_descent_step(X, y, thetha, alpha=alpha)\n",
    "        thethas.append(thetha)\n",
    "        costs.append(cost(X,y,thetha))\n",
    "    return thethas, costs"
   ]
  },
  {
   "cell_type": "code",
   "execution_count": 26,
   "metadata": {},
   "outputs": [
    {
     "name": "stdout",
     "output_type": "stream",
     "text": [
      "0.6922739902427111\n"
     ]
    }
   ],
   "source": [
    "# ---------------\n",
    "# En esta sección lea los datos y entrene el modelo \n",
    "# en estos datos\n",
    "# --------------\n",
    "thetas, costs = gradient_descent(X_train,y_train,np.zeros((X_train.shape[1])))\n",
    "print(costs[-1])"
   ]
  },
  {
   "cell_type": "code",
   "execution_count": 27,
   "metadata": {},
   "outputs": [
    {
     "name": "stdout",
     "output_type": "stream",
     "text": [
      "0.693132343726875\n",
      "0.693132257416598\n"
     ]
    }
   ],
   "source": [
    "# ---------------\n",
    "# En esta sección implemente al menos dos modificaciones\n",
    "# del gradiente descendiente original (Adam, Adagrad, Momentum, Momentum Nesterov, ...) \n",
    "# y re entrene los modelos\n",
    "# --------------\n",
    "\n",
    "#utlizando el método del Momentum\n",
    "\n",
    "def gradient_descent_step_mom(X, y, theta, gamma= 0.9, alpha=0.01):\n",
    "    diff = -gamma*theta -(alpha * gradient(X,y,theta))\n",
    "    theta += diff\n",
    "    return theta\n",
    "\n",
    "def gradient_descent_momentum(X,y, thetha, iteraciones=100, alpha=0.01):\n",
    "    thethas = []\n",
    "    costs = []\n",
    "    for _ in range(iteraciones):\n",
    "        thetha = gradient_descent_step_mom(X, y, thetha, alpha=alpha)\n",
    "        thethas.append(thetha)\n",
    "        costs.append(cost(X,y,thetha))\n",
    "    return thethas, costs\n",
    "\n",
    "#utlizando el método del Momentum Nesterov\n",
    "\n",
    "def gradient_descent_step_mom_nest(X, y, theta, gamma= 0.9, alpha=0.01):\n",
    "    diff = -gamma*theta -(alpha * gradient(X,y,theta-gamma*theta))\n",
    "    theta += diff\n",
    "    return theta\n",
    "\n",
    "def gradient_descent_momentum_nesterov(X,y, thetha, iteraciones=100, alpha=0.01):\n",
    "    thethas = []\n",
    "    costs = []\n",
    "    for _ in range(iteraciones):\n",
    "        thetha = gradient_descent_step_mom_nest(X, y, thetha, alpha=alpha)\n",
    "        thethas.append(thetha)\n",
    "        costs.append(cost(X,y,thetha))\n",
    "    return thethas, costs\n",
    "\n",
    "#----------------------------------------------------------\n",
    "\n",
    "thetas, costs_mom = gradient_descent_momentum(X_train,y_train,np.zeros((X_train.shape[1])))\n",
    "print(costs_mom[-1])\n",
    "\n",
    "thetas, costs_mom_nest = gradient_descent_momentum_nesterov(X_train,y_train,np.zeros((X_train.shape[1])))\n",
    "print(costs_mom_nest[-1])"
   ]
  },
  {
   "cell_type": "code",
   "execution_count": 28,
   "metadata": {},
   "outputs": [
    {
     "data": {
      "text/plain": [
       "[<matplotlib.lines.Line2D at 0x1bc95ea4310>]"
      ]
     },
     "execution_count": 28,
     "metadata": {},
     "output_type": "execute_result"
    },
    {
     "data": {
      "image/png": "[encoded data removed]",
      "text/plain": [
       "<Figure size 432x288 with 1 Axes>"
      ]
     },
     "metadata": {
      "needs_background": "light"
     },
     "output_type": "display_data"
    }
   ],
   "source": [
    "# ---------------\n",
    "# En esta sección grafique la perdida para cada una\n",
    "# de las iteraciones, para eso se recomienda utilizar\n",
    "# matplotlib, la funcion plot\n",
    "# --------------\n",
    "plt.plot(costs)"
   ]
  },
  {
   "cell_type": "code",
   "execution_count": 29,
   "metadata": {},
   "outputs": [
    {
     "data": {
      "text/plain": [
       "0.6931323"
      ]
     },
     "execution_count": 29,
     "metadata": {},
     "output_type": "execute_result"
    },
    {
     "data": {
      "image/png": "[encoded data removed]",
      "text/plain": [
       "<Figure size 432x288 with 1 Axes>"
      ]
     },
     "metadata": {
      "needs_background": "light"
     },
     "output_type": "display_data"
    }
   ],
   "source": [
    "plt.plot(costs_mom)\n",
    "#valor del gráfico \n",
    "2.3*1e-6+6.9313e-1"
   ]
  },
  {
   "cell_type": "code",
   "execution_count": 30,
   "metadata": {},
   "outputs": [
    {
     "data": {
      "text/plain": [
       "0.6931323"
      ]
     },
     "execution_count": 30,
     "metadata": {},
     "output_type": "execute_result"
    },
    {
     "data": {
      "image/png": "[encoded data removed]",
      "text/plain": [
       "<Figure size 432x288 with 1 Axes>"
      ]
     },
     "metadata": {
      "needs_background": "light"
     },
     "output_type": "display_data"
    }
   ],
   "source": [
    "plt.plot(costs_mom_nest)\n",
    "#valor del gráfico \n",
    "2.3*1e-6+6.9313e-1"
   ]
  },
  {
   "cell_type": "code",
   "execution_count": 31,
   "metadata": {},
   "outputs": [],
   "source": [
    "# ---------------\n",
    "# En esta sección utilice la libreria sklearn para \n",
    "# entrenar un modelo de regresion logistica en los datos\n",
    "# https://scikit-learn.org/stable/modules/generated/sklearn.linear_model.LogisticRegression.html\n",
    "# luego imprima el coste final para 100 iteraciones\n",
    "# --------------\n",
    "from sklearn.linear_model import LogisticRegression\n",
    "from sklearn.metrics import accuracy_score\n",
    "from sklearn.metrics import log_loss\n",
    "\n",
    "model = LogisticRegression(max_iter = 100)\n",
    "model.fit(X_train, y_train)\n",
    "predicted_classes = model.predict(X_test)\n",
    "accuracy = accuracy_score(np.array(y_test).flatten(),predicted_classes)\n",
    "parameters = model.coef_\n",
    "score = log_loss(y_test, predicted_classes)"
   ]
  },
  {
   "cell_type": "code",
   "execution_count": 32,
   "metadata": {},
   "outputs": [
    {
     "data": {
      "text/plain": [
       "0.9571428571428572"
      ]
     },
     "execution_count": 32,
     "metadata": {},
     "output_type": "execute_result"
    }
   ],
   "source": [
    "accuracy"
   ]
  },
  {
   "cell_type": "code",
   "execution_count": 33,
   "metadata": {},
   "outputs": [
    {
     "data": {
      "text/plain": [
       "1.4802332740676016"
      ]
     },
     "execution_count": 33,
     "metadata": {},
     "output_type": "execute_result"
    }
   ],
   "source": [
    "#coste final\n",
    "score"
   ]
  },
  {
   "cell_type": "markdown",
   "metadata": {},
   "source": [
    "Referencias\n",
    "\n",
    "* https://ruder.io/optimizing-gradient-descent/\n",
    "\n",
    "* https://medium.com/@IwriteDSblog/gradient-descent-for-logistics-regression-in-python-18e033775082"
   ]
  }
 ],
 "metadata": {
  "kernelspec": {
   "display_name": "Python 3 (ipykernel)",
   "language": "python",
   "name": "python3"
  },
  "language_info": {
   "codemirror_mode": {
    "name": "ipython",
    "version": 3
   },
   "file_extension": ".py",
   "mimetype": "text/x-python",
   "name": "python",
   "nbconvert_exporter": "python",
   "pygments_lexer": "ipython3",
   "version": "3.9.7"
  }
 },
 "nbformat": 4,
 "nbformat_minor": 2
}
