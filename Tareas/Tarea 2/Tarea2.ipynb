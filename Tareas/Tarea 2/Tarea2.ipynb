{
 "cells": [
  {
   "cell_type": "markdown",
   "metadata": {},
   "source": [
    "# <center> Introduccion a la Ciencia de Datos.</center>\n",
    "## <center> Tarea 2 </center>\n"
   ]
  },
  {
   "cell_type": "code",
   "execution_count": 1,
   "metadata": {},
   "outputs": [],
   "source": [
    "import pandas as pd\n",
    "import numpy as np\n",
    "import networkx as nx\n",
    "import pylab as plt\n",
    "\n",
    "from sklearn.metrics import f1_score\n",
    "\n",
    "from pgmpy.models import BayesianNetwork\n",
    "from pgmpy.factors.discrete import TabularCPD\n",
    "from pgmpy.estimators import HillClimbSearch, BicScore, MaximumLikelihoodEstimator\n",
    "from pgmpy.inference import VariableElimination"
   ]
  },
  {
   "cell_type": "code",
   "execution_count": 2,
   "metadata": {},
   "outputs": [
    {
     "data": {
      "text/html": [
       "<div>\n",
       "<style scoped>\n",
       "    .dataframe tbody tr th:only-of-type {\n",
       "        vertical-align: middle;\n",
       "    }\n",
       "\n",
       "    .dataframe tbody tr th {\n",
       "        vertical-align: top;\n",
       "    }\n",
       "\n",
       "    .dataframe thead th {\n",
       "        text-align: right;\n",
       "    }\n",
       "</style>\n",
       "<table border=\"1\" class=\"dataframe\">\n",
       "  <thead>\n",
       "    <tr style=\"text-align: right;\">\n",
       "      <th></th>\n",
       "      <th>Evaluacion crediticia historica</th>\n",
       "      <th>Edad</th>\n",
       "      <th>Genero</th>\n",
       "      <th>Evaluacion Sueldo</th>\n",
       "      <th>Residencia</th>\n",
       "      <th>Nivel de ahorro</th>\n",
       "      <th>Monto del credito</th>\n",
       "      <th>Duracion</th>\n",
       "      <th>Proposito</th>\n",
       "      <th>Riesgo</th>\n",
       "    </tr>\n",
       "  </thead>\n",
       "  <tbody>\n",
       "    <tr>\n",
       "      <th>0</th>\n",
       "      <td>4</td>\n",
       "      <td>38 to 75</td>\n",
       "      <td>male</td>\n",
       "      <td>2</td>\n",
       "      <td>own</td>\n",
       "      <td>no account</td>\n",
       "      <td>250 to 1554</td>\n",
       "      <td>4 to 12</td>\n",
       "      <td>radio/TV</td>\n",
       "      <td>good</td>\n",
       "    </tr>\n",
       "    <tr>\n",
       "      <th>1</th>\n",
       "      <td>2</td>\n",
       "      <td>19 to 28</td>\n",
       "      <td>female</td>\n",
       "      <td>2</td>\n",
       "      <td>own</td>\n",
       "      <td>little</td>\n",
       "      <td>250 to 1554</td>\n",
       "      <td>12 to 24</td>\n",
       "      <td>radio/TV</td>\n",
       "      <td>bad</td>\n",
       "    </tr>\n",
       "    <tr>\n",
       "      <th>2</th>\n",
       "      <td>4</td>\n",
       "      <td>28 to 38</td>\n",
       "      <td>male</td>\n",
       "      <td>1</td>\n",
       "      <td>own</td>\n",
       "      <td>little</td>\n",
       "      <td>250 to 1554</td>\n",
       "      <td>4 to 12</td>\n",
       "      <td>education</td>\n",
       "      <td>good</td>\n",
       "    </tr>\n",
       "    <tr>\n",
       "      <th>3</th>\n",
       "      <td>2</td>\n",
       "      <td>28 to 38</td>\n",
       "      <td>male</td>\n",
       "      <td>2</td>\n",
       "      <td>free</td>\n",
       "      <td>little</td>\n",
       "      <td>1554 to 3368</td>\n",
       "      <td>12 to 24</td>\n",
       "      <td>furniture/equipment</td>\n",
       "      <td>good</td>\n",
       "    </tr>\n",
       "    <tr>\n",
       "      <th>4</th>\n",
       "      <td>3</td>\n",
       "      <td>28 to 38</td>\n",
       "      <td>male</td>\n",
       "      <td>2</td>\n",
       "      <td>free</td>\n",
       "      <td>little</td>\n",
       "      <td>250 to 1554</td>\n",
       "      <td>4 to 12</td>\n",
       "      <td>car</td>\n",
       "      <td>bad</td>\n",
       "    </tr>\n",
       "  </tbody>\n",
       "</table>\n",
       "</div>"
      ],
      "text/plain": [
       "   Evaluacion crediticia historica      Edad  Genero  Evaluacion Sueldo  \\\n",
       "0                                4  38 to 75    male                  2   \n",
       "1                                2  19 to 28  female                  2   \n",
       "2                                4  28 to 38    male                  1   \n",
       "3                                2  28 to 38    male                  2   \n",
       "4                                3  28 to 38    male                  2   \n",
       "\n",
       "  Residencia Nivel de ahorro Monto del credito  Duracion            Proposito  \\\n",
       "0        own      no account       250 to 1554   4 to 12             radio/TV   \n",
       "1        own          little       250 to 1554  12 to 24             radio/TV   \n",
       "2        own          little       250 to 1554   4 to 12            education   \n",
       "3       free          little      1554 to 3368  12 to 24  furniture/equipment   \n",
       "4       free          little       250 to 1554   4 to 12                  car   \n",
       "\n",
       "  Riesgo  \n",
       "0   good  \n",
       "1    bad  \n",
       "2   good  \n",
       "3   good  \n",
       "4    bad  "
      ]
     },
     "execution_count": 2,
     "metadata": {},
     "output_type": "execute_result"
    }
   ],
   "source": [
    "''' Cargue los datos del archivo Riesgo_Credito.csv, se recomienda utilizar pandas.read_csv '''\n",
    "data = pd.read_csv(\"Riesgo_Credito.csv\" ,index_col=0)\n",
    "data.head()"
   ]
  },
  {
   "cell_type": "markdown",
   "metadata": {},
   "source": [
    "### Pregunta 1.1.1 - Hill Climbing (10 ptos)"
   ]
  },
  {
   "cell_type": "markdown",
   "metadata": {},
   "source": [
    "En esta sección explique el método Hill Climbing para el aprendizaje de estructuras de redes.\n",
    "### Es un algoritmo iterativo de búsqueda local que comienza con una solución arbitraria, para luego variar incrementalmente un elemento de la solución hasta encontrar una solución mejor y así cambiar el incremento a un elemento de la nueva solución. El algoritmo itera hasta no encontrar mejoras, osea hasta encontrar un óptimo local."
   ]
  },
  {
   "cell_type": "markdown",
   "metadata": {},
   "source": [
    "### Pregunta 1.1.2 - Creacion de una Red Bayesiana (5 ptos)\n",
    "Uilice este método (utilice BICScore) para aprender una estructura para la red y grafíquela."
   ]
  },
  {
   "cell_type": "code",
   "execution_count": 3,
   "metadata": {
    "scrolled": false
   },
   "outputs": [
    {
     "data": {
      "application/vnd.jupyter.widget-view+json": {
       "model_id": "7bf09fec358e4208a42c5c745c0f3c5a",
       "version_major": 2,
       "version_minor": 0
      },
      "text/plain": [
       "  0%|          | 0/1000000 [00:00<?, ?it/s]"
      ]
     },
     "metadata": {},
     "output_type": "display_data"
    },
    {
     "data": {
      "application/vnd.jupyter.widget-view+json": {
       "model_id": "0fc5f3eeef80441da5e3f20816b13ddf",
       "version_major": 2,
       "version_minor": 0
      },
      "text/plain": [
       "  0%|          | 0/1000000 [00:00<?, ?it/s]"
      ]
     },
     "metadata": {},
     "output_type": "display_data"
    },
    {
     "data": {
      "image/png": "[encoded data removed]",
      "text/plain": [
       "<Figure size 432x288 with 1 Axes>"
      ]
     },
     "metadata": {},
     "output_type": "display_data"
    }
   ],
   "source": [
    "''' Su código aquí '''\n",
    "est = HillClimbSearch(data)\n",
    "best_model = est.estimate(scoring_method=BicScore(data))\n",
    "est.estimate(max_indegree=1).edges()\n",
    "nx.draw(best_model, with_labels=True, font_weight='bold')"
   ]
  },
  {
   "cell_type": "markdown",
   "metadata": {},
   "source": [
    "### Pregunta 1.1.3 - Proponga una mejora (5 ptos)\n",
    "Comente sobre la estructura obtenida y proponga una mejora, cree la red utilizando pgmpy y luego grafiquela."
   ]
  },
  {
   "cell_type": "code",
   "execution_count": 4,
   "metadata": {},
   "outputs": [
    {
     "data": {
      "application/vnd.jupyter.widget-view+json": {
       "model_id": "6c4711aa4e16486bb7f17c308df9921d",
       "version_major": 2,
       "version_minor": 0
      },
      "text/plain": [
       "  0%|          | 0/1000000 [00:00<?, ?it/s]"
      ]
     },
     "metadata": {},
     "output_type": "display_data"
    },
    {
     "data": {
      "application/vnd.jupyter.widget-view+json": {
       "model_id": "86be20958f6340d6a4120868efc69552",
       "version_major": 2,
       "version_minor": 0
      },
      "text/plain": [
       "  0%|          | 0/1000000 [00:00<?, ?it/s]"
      ]
     },
     "metadata": {},
     "output_type": "display_data"
    },
    {
     "data": {
      "image/png": "[encoded data removed]",
      "text/plain": [
       "<Figure size 432x288 with 1 Axes>"
      ]
     },
     "metadata": {},
     "output_type": "display_data"
    }
   ],
   "source": [
    "''' Su código aquí '''\n",
    "data = data.drop(['Proposito','Edad','Genero','Residencia'], axis=1)\n",
    "est = HillClimbSearch(data)\n",
    "best_model = est.estimate(scoring_method=BicScore(data))\n",
    "est.estimate(max_indegree=1).edges()\n",
    "nx.draw(best_model, with_labels=True, font_weight='bold')"
   ]
  },
  {
   "cell_type": "markdown",
   "metadata": {},
   "source": [
    "### Debido a que existen nodos que no están conectados al label que quiero predecir \"Riesgo\", decidí eliminar todos esos nodos no conectados. Estos son: Proposito, Edad, Genero y Residencia."
   ]
  },
  {
   "cell_type": "markdown",
   "metadata": {},
   "source": [
    "### 1.1.4. Estimación por máxima verosimilitud (10 ptos)\n",
    "Aprenda los parámetros de cada CPD de la red utilizando el método de máxima verosimilitud (utilizando el método MaximumLikelihoodEstimator)."
   ]
  },
  {
   "cell_type": "code",
   "execution_count": 9,
   "metadata": {},
   "outputs": [
    {
     "name": "stdout",
     "output_type": "stream",
     "text": [
      "+------------------------------------+-------+\n",
      "| Evaluacion crediticia historica(0) | 0.04  |\n",
      "+------------------------------------+-------+\n",
      "| Evaluacion crediticia historica(1) | 0.049 |\n",
      "+------------------------------------+-------+\n",
      "| Evaluacion crediticia historica(2) | 0.53  |\n",
      "+------------------------------------+-------+\n",
      "| Evaluacion crediticia historica(3) | 0.088 |\n",
      "+------------------------------------+-------+\n",
      "| Evaluacion crediticia historica(4) | 0.293 |\n",
      "+------------------------------------+-------+\n",
      "\n",
      "\n",
      "+----------------------+-----+----------------------------------+\n",
      "| Monto del credito    | ... | Monto del credito(3368 to 18424) |\n",
      "+----------------------+-----+----------------------------------+\n",
      "| Evaluacion Sueldo(0) | ... | 0.05263157894736842              |\n",
      "+----------------------+-----+----------------------------------+\n",
      "| Evaluacion Sueldo(1) | ... | 0.0                              |\n",
      "+----------------------+-----+----------------------------------+\n",
      "| Evaluacion Sueldo(2) | ... | 0.3157894736842105               |\n",
      "+----------------------+-----+----------------------------------+\n",
      "| Evaluacion Sueldo(3) | ... | 0.631578947368421                |\n",
      "+----------------------+-----+----------------------------------+\n",
      "\n",
      "\n",
      "+-----------------------------+---------------------+---------------------+\n",
      "| Riesgo                      | Riesgo(bad)         | Riesgo(good)        |\n",
      "+-----------------------------+---------------------+---------------------+\n",
      "| Nivel de ahorro(little)     | 0.7233333333333334  | 0.5514285714285714  |\n",
      "+-----------------------------+---------------------+---------------------+\n",
      "| Nivel de ahorro(moderate)   | 0.11333333333333333 | 0.09857142857142857 |\n",
      "+-----------------------------+---------------------+---------------------+\n",
      "| Nivel de ahorro(no account) | 0.10666666666666667 | 0.21571428571428572 |\n",
      "+-----------------------------+---------------------+---------------------+\n",
      "| Nivel de ahorro(quite rich) | 0.03666666666666667 | 0.07428571428571429 |\n",
      "+-----------------------------+---------------------+---------------------+\n",
      "| Nivel de ahorro(rich)       | 0.02                | 0.06                |\n",
      "+-----------------------------+---------------------+---------------------+\n",
      "\n",
      "\n",
      "+----------------------------------+---------------------+--------------------+---------------------+\n",
      "| Duracion                         | Duracion(12 to 24)  | Duracion(24 to 72) | Duracion(4 to 12)   |\n",
      "+----------------------------------+---------------------+--------------------+---------------------+\n",
      "| Monto del credito(1554 to 3368)  | 0.3333333333333333  | 0.5625             | 0.04669260700389105 |\n",
      "+----------------------------------+---------------------+--------------------+---------------------+\n",
      "| Monto del credito(250 to 1554)   | 0.6244131455399061  | 0.125              | 0.9468223086900129  |\n",
      "+----------------------------------+---------------------+--------------------+---------------------+\n",
      "| Monto del credito(3368 to 18424) | 0.04225352112676056 | 0.3125             | 0.00648508430609598 |\n",
      "+----------------------------------+---------------------+--------------------+---------------------+\n",
      "\n",
      "\n",
      "+--------------------+---------------------+----------------------+\n",
      "| Riesgo             | Riesgo(bad)         | Riesgo(good)         |\n",
      "+--------------------+---------------------+----------------------+\n",
      "| Duracion(12 to 24) | 0.31333333333333335 | 0.17                 |\n",
      "+--------------------+---------------------+----------------------+\n",
      "| Duracion(24 to 72) | 0.02666666666666667 | 0.011428571428571429 |\n",
      "+--------------------+---------------------+----------------------+\n",
      "| Duracion(4 to 12)  | 0.66                | 0.8185714285714286   |\n",
      "+--------------------+---------------------+----------------------+\n",
      "\n",
      "\n",
      "+---------------------------------+-----+------------------------------------+\n",
      "| Evaluacion crediticia historica | ... | Evaluacion crediticia historica(4) |\n",
      "+---------------------------------+-----+------------------------------------+\n",
      "| Riesgo(bad)                     | ... | 0.17064846416382254                |\n",
      "+---------------------------------+-----+------------------------------------+\n",
      "| Riesgo(good)                    | ... | 0.8293515358361775                 |\n",
      "+---------------------------------+-----+------------------------------------+\n",
      "\n",
      "\n"
     ]
    },
    {
     "data": {
      "text/plain": [
       "True"
      ]
     },
     "execution_count": 9,
     "metadata": {},
     "output_type": "execute_result"
    }
   ],
   "source": [
    "''' Su código Aquí '''\n",
    "model = BayesianNetwork(best_model.edges())\n",
    "mle = MaximumLikelihoodEstimator(model, data)\n",
    "columnas = list(data.columns)\n",
    "for parametro in columnas:\n",
    "    model.add_cpds(mle.estimate_cpd(parametro))\n",
    "    print(mle.estimate_cpd(parametro))\n",
    "    print(\"\\n\")\n",
    "#model.check_model()"
   ]
  },
  {
   "cell_type": "markdown",
   "metadata": {},
   "source": [
    "### 1.2 Independencias Locales (5 ptos)\n",
    "\n",
    "Liste todas las independencias locales y todas las independencias markovianas globales para la variable Riesgo."
   ]
  },
  {
   "cell_type": "code",
   "execution_count": 18,
   "metadata": {
    "scrolled": true
   },
   "outputs": [
    {
     "data": {
      "text/plain": []
     },
     "execution_count": 18,
     "metadata": {},
     "output_type": "execute_result"
    }
   ],
   "source": [
    "''' Su código aquí'''\n",
    "model.local_independencies('Riesgo')"
   ]
  },
  {
   "cell_type": "markdown",
   "metadata": {},
   "source": [
    "### Debido a que eliminé todas las variables no conectadas a \"Riesgo\", también se eliminaron las independencias locales, es por ello que sale vacío."
   ]
  },
  {
   "cell_type": "markdown",
   "metadata": {},
   "source": [
    "### 1.3 Consultas (15 ptos)\n",
    "\n",
    "1. Dado una edad de 21 años, ¿Cual es la probabilidad de riesgo alto? <br>\n"
   ]
  },
  {
   "cell_type": "code",
   "execution_count": 21,
   "metadata": {},
   "outputs": [
    {
     "data": {
      "application/vnd.jupyter.widget-view+json": {
       "model_id": "9bd37cd8eda5477091afbea582242696",
       "version_major": 2,
       "version_minor": 0
      },
      "text/plain": [
       "  0%|          | 0/1 [00:00<?, ?it/s]"
      ]
     },
     "metadata": {},
     "output_type": "display_data"
    },
    {
     "data": {
      "application/vnd.jupyter.widget-view+json": {
       "model_id": "4e214d96dd9f4fd09fbe949704cf35d2",
       "version_major": 2,
       "version_minor": 0
      },
      "text/plain": [
       "  0%|          | 0/1 [00:00<?, ?it/s]"
      ]
     },
     "metadata": {},
     "output_type": "display_data"
    },
    {
     "name": "stdout",
     "output_type": "stream",
     "text": [
      "+--------------+---------------+\n",
      "| Riesgo       |   phi(Riesgo) |\n",
      "+==============+===============+\n",
      "| Riesgo(bad)  |        0.3000 |\n",
      "+--------------+---------------+\n",
      "| Riesgo(good) |        0.7000 |\n",
      "+--------------+---------------+\n"
     ]
    }
   ],
   "source": [
    "''' Su código aquí '''\n",
    "infer = VariableElimination(model)\n",
    "g_dist = infer.query(['Riesgo'])\n",
    "print(g_dist)"
   ]
  },
  {
   "cell_type": "markdown",
   "metadata": {},
   "source": [
    "### Debido a que el riesgo no depende de la edad (y que ya no existe esa columna), se calcula una distribución no condicional.\n",
    "### Teniendo como resultado un 30% para Riesgo alto, independiente de la edad."
   ]
  },
  {
   "cell_type": "markdown",
   "metadata": {},
   "source": [
    "2. Liste la probabilidad condicional de riesgo dado evaluacion crediticia historica. <br>\n"
   ]
  },
  {
   "cell_type": "code",
   "execution_count": 26,
   "metadata": {},
   "outputs": [
    {
     "data": {
      "text/plain": [
       "array([4, 2, 3, 0, 1], dtype=int64)"
      ]
     },
     "execution_count": 26,
     "metadata": {},
     "output_type": "execute_result"
    }
   ],
   "source": [
    "data['Evaluacion crediticia historica'].unique()"
   ]
  },
  {
   "cell_type": "markdown",
   "metadata": {},
   "source": [
    "### Debido a que no me piden una \"Evalucion Creditica Historica\" en específico, calculé el valor para cada uno de los posibles valores."
   ]
  },
  {
   "cell_type": "code",
   "execution_count": 24,
   "metadata": {},
   "outputs": [
    {
     "data": {
      "application/vnd.jupyter.widget-view+json": {
       "model_id": "6b5d1e172f314cdfb3ef6a64ae5d1477",
       "version_major": 2,
       "version_minor": 0
      },
      "text/plain": [
       "0it [00:00, ?it/s]"
      ]
     },
     "metadata": {},
     "output_type": "display_data"
    },
    {
     "data": {
      "application/vnd.jupyter.widget-view+json": {
       "model_id": "6a1019282bf84bf5abb1aaa562cb4519",
       "version_major": 2,
       "version_minor": 0
      },
      "text/plain": [
       "0it [00:00, ?it/s]"
      ]
     },
     "metadata": {},
     "output_type": "display_data"
    },
    {
     "name": "stdout",
     "output_type": "stream",
     "text": [
      "+--------------+---------------+\n",
      "| Riesgo       |   phi(Riesgo) |\n",
      "+==============+===============+\n",
      "| Riesgo(bad)  |        0.6250 |\n",
      "+--------------+---------------+\n",
      "| Riesgo(good) |        0.3750 |\n",
      "+--------------+---------------+\n"
     ]
    }
   ],
   "source": [
    "''' Su código aquí '''\n",
    "print(infer.query(['Riesgo'], evidence={'Evaluacion crediticia historica': 0}))"
   ]
  },
  {
   "cell_type": "code",
   "execution_count": 27,
   "metadata": {},
   "outputs": [
    {
     "data": {
      "application/vnd.jupyter.widget-view+json": {
       "model_id": "ed5f8eee760246c2926de9fd526a49c9",
       "version_major": 2,
       "version_minor": 0
      },
      "text/plain": [
       "0it [00:00, ?it/s]"
      ]
     },
     "metadata": {},
     "output_type": "display_data"
    },
    {
     "data": {
      "application/vnd.jupyter.widget-view+json": {
       "model_id": "2bbf70b0c23f4b6a9336de1985e20f7d",
       "version_major": 2,
       "version_minor": 0
      },
      "text/plain": [
       "0it [00:00, ?it/s]"
      ]
     },
     "metadata": {},
     "output_type": "display_data"
    },
    {
     "name": "stdout",
     "output_type": "stream",
     "text": [
      "+--------------+---------------+\n",
      "| Riesgo       |   phi(Riesgo) |\n",
      "+==============+===============+\n",
      "| Riesgo(bad)  |        0.5714 |\n",
      "+--------------+---------------+\n",
      "| Riesgo(good) |        0.4286 |\n",
      "+--------------+---------------+\n"
     ]
    }
   ],
   "source": [
    "print(infer.query(['Riesgo'], evidence={'Evaluacion crediticia historica': 1}))"
   ]
  },
  {
   "cell_type": "code",
   "execution_count": 28,
   "metadata": {},
   "outputs": [
    {
     "data": {
      "application/vnd.jupyter.widget-view+json": {
       "model_id": "b8230f95530b47f48ab5b483397f429a",
       "version_major": 2,
       "version_minor": 0
      },
      "text/plain": [
       "0it [00:00, ?it/s]"
      ]
     },
     "metadata": {},
     "output_type": "display_data"
    },
    {
     "data": {
      "application/vnd.jupyter.widget-view+json": {
       "model_id": "1020a7cc93ba414498422d75a99b1e87",
       "version_major": 2,
       "version_minor": 0
      },
      "text/plain": [
       "0it [00:00, ?it/s]"
      ]
     },
     "metadata": {},
     "output_type": "display_data"
    },
    {
     "name": "stdout",
     "output_type": "stream",
     "text": [
      "+--------------+---------------+\n",
      "| Riesgo       |   phi(Riesgo) |\n",
      "+==============+===============+\n",
      "| Riesgo(bad)  |        0.3189 |\n",
      "+--------------+---------------+\n",
      "| Riesgo(good) |        0.6811 |\n",
      "+--------------+---------------+\n"
     ]
    }
   ],
   "source": [
    "print(infer.query(['Riesgo'], evidence={'Evaluacion crediticia historica': 2}))"
   ]
  },
  {
   "cell_type": "code",
   "execution_count": 29,
   "metadata": {},
   "outputs": [
    {
     "data": {
      "application/vnd.jupyter.widget-view+json": {
       "model_id": "3d35c10497ee49969c4d40512acdd6f3",
       "version_major": 2,
       "version_minor": 0
      },
      "text/plain": [
       "0it [00:00, ?it/s]"
      ]
     },
     "metadata": {},
     "output_type": "display_data"
    },
    {
     "data": {
      "application/vnd.jupyter.widget-view+json": {
       "model_id": "35472db8ef5445f8b99b1655c0f75f9b",
       "version_major": 2,
       "version_minor": 0
      },
      "text/plain": [
       "0it [00:00, ?it/s]"
      ]
     },
     "metadata": {},
     "output_type": "display_data"
    },
    {
     "name": "stdout",
     "output_type": "stream",
     "text": [
      "+--------------+---------------+\n",
      "| Riesgo       |   phi(Riesgo) |\n",
      "+==============+===============+\n",
      "| Riesgo(bad)  |        0.3182 |\n",
      "+--------------+---------------+\n",
      "| Riesgo(good) |        0.6818 |\n",
      "+--------------+---------------+\n"
     ]
    }
   ],
   "source": [
    "print(infer.query(['Riesgo'], evidence={'Evaluacion crediticia historica': 3}))"
   ]
  },
  {
   "cell_type": "code",
   "execution_count": 30,
   "metadata": {},
   "outputs": [
    {
     "data": {
      "application/vnd.jupyter.widget-view+json": {
       "model_id": "947101865ecf47df8745cf8da760765d",
       "version_major": 2,
       "version_minor": 0
      },
      "text/plain": [
       "0it [00:00, ?it/s]"
      ]
     },
     "metadata": {},
     "output_type": "display_data"
    },
    {
     "data": {
      "application/vnd.jupyter.widget-view+json": {
       "model_id": "c54736c3fb394397b29f21e568f68a7f",
       "version_major": 2,
       "version_minor": 0
      },
      "text/plain": [
       "0it [00:00, ?it/s]"
      ]
     },
     "metadata": {},
     "output_type": "display_data"
    },
    {
     "name": "stdout",
     "output_type": "stream",
     "text": [
      "+--------------+---------------+\n",
      "| Riesgo       |   phi(Riesgo) |\n",
      "+==============+===============+\n",
      "| Riesgo(bad)  |        0.1706 |\n",
      "+--------------+---------------+\n",
      "| Riesgo(good) |        0.8294 |\n",
      "+--------------+---------------+\n"
     ]
    }
   ],
   "source": [
    "print(infer.query(['Riesgo'], evidence={'Evaluacion crediticia historica': 4}))"
   ]
  },
  {
   "cell_type": "markdown",
   "metadata": {},
   "source": [
    "3. Dado que el credito es de duración de 3 años (36 meses), ¿cuál es la probabilidad de riesgo alto? <br>"
   ]
  },
  {
   "cell_type": "code",
   "execution_count": 31,
   "metadata": {},
   "outputs": [
    {
     "data": {
      "text/plain": [
       "array(['4 to 12', '12 to 24', '24 to 72'], dtype=object)"
      ]
     },
     "execution_count": 31,
     "metadata": {},
     "output_type": "execute_result"
    }
   ],
   "source": [
    "data['Duracion'].unique()"
   ]
  },
  {
   "cell_type": "code",
   "execution_count": 32,
   "metadata": {
    "scrolled": true
   },
   "outputs": [
    {
     "data": {
      "application/vnd.jupyter.widget-view+json": {
       "model_id": "b295377729394f77ac2fb54663637fa2",
       "version_major": 2,
       "version_minor": 0
      },
      "text/plain": [
       "  0%|          | 0/1 [00:00<?, ?it/s]"
      ]
     },
     "metadata": {},
     "output_type": "display_data"
    },
    {
     "data": {
      "application/vnd.jupyter.widget-view+json": {
       "model_id": "9560390008734e9084422a7e3e98b694",
       "version_major": 2,
       "version_minor": 0
      },
      "text/plain": [
       "  0%|          | 0/1 [00:00<?, ?it/s]"
      ]
     },
     "metadata": {},
     "output_type": "display_data"
    },
    {
     "name": "stdout",
     "output_type": "stream",
     "text": [
      "+--------------+---------------+\n",
      "| Riesgo       |   phi(Riesgo) |\n",
      "+==============+===============+\n",
      "| Riesgo(bad)  |        0.5000 |\n",
      "+--------------+---------------+\n",
      "| Riesgo(good) |        0.5000 |\n",
      "+--------------+---------------+\n"
     ]
    }
   ],
   "source": [
    "''' Su código aquí '''\n",
    "print(infer.query(['Riesgo'], evidence={'Duracion': '24 to 72'}))"
   ]
  },
  {
   "cell_type": "markdown",
   "metadata": {},
   "source": [
    "### La probabilidad de Riesgo alto es del 50%."
   ]
  },
  {
   "cell_type": "markdown",
   "metadata": {},
   "source": [
    "## Referencias"
   ]
  },
  {
   "cell_type": "markdown",
   "metadata": {},
   "source": [
    "- Código de la ayudantía 3."
   ]
  }
 ],
 "metadata": {
  "kernelspec": {
   "display_name": "Python 3 (ipykernel)",
   "language": "python",
   "name": "python3"
  },
  "language_info": {
   "codemirror_mode": {
    "name": "ipython",
    "version": 3
   },
   "file_extension": ".py",
   "mimetype": "text/x-python",
   "name": "python",
   "nbconvert_exporter": "python",
   "pygments_lexer": "ipython3",
   "version": "3.9.7"
  }
 },
 "nbformat": 4,
 "nbformat_minor": 4
}
